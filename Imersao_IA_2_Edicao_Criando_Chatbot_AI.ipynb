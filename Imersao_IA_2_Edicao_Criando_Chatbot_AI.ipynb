{
  "nbformat": 4,
  "nbformat_minor": 0,
  "metadata": {
    "colab": {
      "provenance": [],
      "authorship_tag": "ABX9TyOyMgOHts+xtX508UDHNLpP",
      "include_colab_link": true
    },
    "kernelspec": {
      "name": "python3",
      "display_name": "Python 3"
    },
    "language_info": {
      "name": "python"
    }
  },
  "cells": [
    {
      "cell_type": "markdown",
      "metadata": {
        "id": "view-in-github",
        "colab_type": "text"
      },
      "source": [
        "<a href=\"https://colab.research.google.com/github/lauanrmc/Imersao_IA_2_Edicao_Criando_Chatbot_AI/blob/main/Imersao_IA_2_Edicao_Criando_Chatbot_AI.ipynb\" target=\"_parent\"><img src=\"https://colab.research.google.com/assets/colab-badge.svg\" alt=\"Open In Colab\"/></a>"
      ]
    },
    {
      "cell_type": "code",
      "execution_count": null,
      "metadata": {
        "id": "PCNeuX_GngZg"
      },
      "outputs": [],
      "source": [
        "\n",
        "# Instalando SDK Google\n",
        "\n",
        "!pip install -q -U google-generativeai\n"
      ]
    },
    {
      "cell_type": "code",
      "source": [
        "\n",
        "# Import the Python SDK\n",
        "\n",
        "import google.generativeai as genai\n",
        "\n",
        "from google.colab import userdata\n",
        "api_key = userdata.get(\"Secret_Key\")\n",
        "\n",
        "GOOGLE_API_KEY=\"api_key=api_key\"\n",
        "genai.configure(api_key=GOOGLE_API_KEY)\n"
      ],
      "metadata": {
        "id": "OaQP4bV9oA1s"
      },
      "execution_count": null,
      "outputs": []
    },
    {
      "cell_type": "code",
      "source": [
        "\n",
        "# Lista modelos disponíveis\n",
        "\n",
        "for m in genai.list_models():\n",
        "    if 'generationContent' in m.supported_generation_methods:\n",
        "      print(m.name)\n",
        ""
      ],
      "metadata": {
        "id": "xA_bqrZHoMar"
      },
      "execution_count": null,
      "outputs": []
    },
    {
      "cell_type": "code",
      "source": [
        "\n",
        "# Insere a abrangência para o modelo\n",
        "\n",
        "generation_config = {\n",
        "    \"candidate_count\": 1,\n",
        "    \"temperature\": 0.5,\n",
        "}\n"
      ],
      "metadata": {
        "id": "wvsq0J2HqiW9"
      },
      "execution_count": null,
      "outputs": []
    },
    {
      "cell_type": "code",
      "source": [
        "\n",
        "# Insere parâmetros para o modelo\n",
        "\n",
        "safety_settings = {\n",
        "    \"HARASSMENT\": \"BLOCK_NONE\",\n",
        "    \"HATE\": \"BLOCK_NONE\",\n",
        "    \"SEXUAL\": \"BLOCK_NONE\",\n",
        "    \"DANGEROUS\": \"BLOCK_NONE\",\n",
        "}\n"
      ],
      "metadata": {
        "id": "UVBfZMvArcSU"
      },
      "execution_count": null,
      "outputs": []
    },
    {
      "cell_type": "code",
      "source": [
        "\n",
        "# Inicializando o modelo\n",
        "\n",
        "model = genai.GenerativeModel(model_name=\"gemini-1.0-pro\",\n",
        "                              generation_config=generation_config,\n",
        "                              safety_settings=safety_settings)\n"
      ],
      "metadata": {
        "id": "bTVXeaSBtAgw"
      },
      "execution_count": null,
      "outputs": []
    },
    {
      "cell_type": "code",
      "source": [
        "\n",
        "#teste\n",
        "\n",
        "response = model.generate_content(\"Dê sugestões de boas práticas e dicas de como se manter motivado para um produtor de conteúdo de vídeos de música\")\n",
        "print(response.text)\n",
        "\n"
      ],
      "metadata": {
        "colab": {
          "base_uri": "https://localhost:8080/",
          "height": 483
        },
        "id": "8tD974Igus39",
        "outputId": "a64c896e-7575-42e5-dafa-75492294132f"
      },
      "execution_count": null,
      "outputs": [
        {
          "output_type": "stream",
          "name": "stdout",
          "text": [
            "**Boas Práticas para Produtores de Conteúdo de Vídeos Musicais**\n",
            "\n",
            "* **Defina um nicho:** Concentre-se em um gênero ou estilo musical específico para construir uma base de fãs dedicada.\n",
            "* **Crie conteúdo de alta qualidade:** Invista em equipamentos de produção de qualidade e técnicas de edição para criar vídeos envolventes e profissionais.\n",
            "* **Seja consistente:** Publique novos vídeos regularmente para manter o interesse do público.\n",
            "* **Promova seu conteúdo:** Use plataformas de mídia social, e-mail marketing e colaborações para divulgar seus vídeos.\n",
            "* **Colabore com artistas:** Faça parceria com músicos e cantores para criar vídeos que atraiam um público mais amplo.\n",
            "* **Acompanhe seus resultados:** Use análises para rastrear o desempenho do seu conteúdo e identificar áreas de melhoria.\n",
            "* **Esteja atualizado com as tendências:** Fique atento às tendências da indústria musical e aos formatos de vídeo populares para manter seu conteúdo relevante.\n",
            "* **Construa uma comunidade:** Interaja com seu público, responda a comentários e crie um senso de pertencimento.\n",
            "* **Obtenha feedback:** Peça feedback de colegas, mentores ou grupos da indústria para melhorar seu trabalho.\n",
            "* **Seja paciente:** Construir uma base de fãs e obter sucesso leva tempo e esforço.\n",
            "\n",
            "**Dicas para Manter a Motivação**\n",
            "\n",
            "* **Estabeleça metas realistas:** Defina metas alcançáveis que o mantenham motivado e no caminho certo.\n",
            "* **Encontre inspiração:** Ouça música, assista a vídeos de outros produtores e participe de eventos da indústria para se inspirar.\n",
            "* **Faça pausas:** Afaste-se do trabalho regularmente para recarregar as baterias e evitar o esgotamento.\n",
            "* **Celebre seus sucessos:** Reconheça e recompense seus esforços para manter a motivação.\n",
            "* **Conecte-se com outros produtores:** Junte-se a grupos online ou participe de eventos para se conectar com outros produtores e trocar ideias.\n",
            "* **Aprenda continuamente:** Faça cursos, assista a tutoriais e explore novas técnicas para aprimorar suas habilidades.\n",
            "* **Encontre um mentor:** Encontre um mentor experiente que possa fornecer orientação e apoio.\n",
            "* **Lembre-se do seu propósito:** Mantenha em mente por que você começou a produzir vídeos musicais e o que o motiva.\n",
            "* **Divirta-se:** A produção de conteúdo de vídeo deve ser agradável. Se você não estiver se divertindo, é menos provável que se mantenha motivado.\n",
            "* **Não desista:** Haverá momentos desafiadores, mas não desista. A persistência é fundamental para o sucesso.\n"
          ]
        }
      ]
    },
    {
      "cell_type": "code",
      "source": [
        "\n",
        "# Criando o chatbot\n",
        "\n",
        "chat = model.start_chat(history=[])\n"
      ],
      "metadata": {
        "id": "evRTw_D-vPKe"
      },
      "execution_count": null,
      "outputs": []
    },
    {
      "cell_type": "code",
      "source": [
        "\n",
        "# Criando caixa de diálogo para input do prompt\n",
        "\n",
        "prompt = input(\"Digite aqui o texto: \")\n",
        "\n",
        "while prompt != \"fim\":\n",
        "    response = chat.send_message(prompt)\n",
        "    print(\"Resposta: \", response.text, \"\\n\")\n",
        "    prompt = input(\"Digite aqui o texto: \")\n"
      ],
      "metadata": {
        "id": "cKie-sHWvr8H",
        "colab": {
          "base_uri": "https://localhost:8080/"
        },
        "outputId": "6a4cf2ca-6406-4bf8-c4cd-ccda9cea79db"
      },
      "execution_count": 38,
      "outputs": [
        {
          "name": "stdout",
          "output_type": "stream",
          "text": [
            "Digite aqui o texto: fim\n"
          ]
        }
      ]
    },
    {
      "cell_type": "code",
      "source": [
        "\n",
        "#Melhorando a visualização\n",
        "#Código disponível em https://ai.google.dev/tutorials/python_quickstart#import_packages\n",
        "import textwrap\n",
        "from IPython.display import display\n",
        "from IPython.display import Markdown\n",
        "\n",
        "def to_markdown(text):\n",
        "  text = text.replace('•', '  *')\n",
        "  return Markdown(textwrap.indent(text, '> ', predicate=lambda _: True))\n",
        "\n",
        "#Imprimindo o histórico\n",
        "for message in chat.history:\n",
        "  display(to_markdown(f'**{message.role}**: {message.parts[0].text}'))\n",
        ""
      ],
      "metadata": {
        "colab": {
          "base_uri": "https://localhost:8080/",
          "height": 94
        },
        "id": "c8P6CXKFyE1k",
        "outputId": "8b278e17-a04e-47fc-eaba-13a8feb6a83e"
      },
      "execution_count": null,
      "outputs": [
        {
          "output_type": "display_data",
          "data": {
            "text/plain": [
              "<IPython.core.display.Markdown object>"
            ],
            "text/markdown": "> **user**: Qual o seu nome?"
          },
          "metadata": {}
        },
        {
          "output_type": "display_data",
          "data": {
            "text/plain": [
              "<IPython.core.display.Markdown object>"
            ],
            "text/markdown": "> **model**: Sou Gemini, um modelo de linguagem de IA multimodal desenvolvido pelo Google."
          },
          "metadata": {}
        }
      ]
    }
  ]
}